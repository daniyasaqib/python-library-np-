{
 "cells": [
  {
   "cell_type": "markdown",
   "id": "fbbeb6bd-01e4-4f6a-ae0d-550950f1e425",
   "metadata": {},
   "source": [
    "## PYTHON LIBRARIES :- ##"
   ]
  },
  {
   "cell_type": "markdown",
   "id": "7f75f29a-80a0-4107-8f4d-e0dcf7828d7f",
   "metadata": {},
   "source": [
    "**<span style=\"color:green\"> Python library :-**"
   ]
  },
  {
   "cell_type": "markdown",
   "id": "50132bc2-7126-4007-80bd-55873add360e",
   "metadata": {},
   "source": [
    "Normaly, a library is a collection of books or is a room or place where many books are stored to be used later. Similarly, in the programming world, a library is a collection of codes that can be used later on in a program for some specific well-defined operations. It makes everyday tasks more efficient. It is located in the site-packages folder within the python install directory. Python library has code bundles that can be used again and again in different programs. Library may contain documentation, configuration data, message templates, classes and values etc. For programmers, it makes python programming easier and simpler."
   ]
  },
  {
   "cell_type": "markdown",
   "id": "e8597213-4ab1-4046-9432-60fe378363e7",
   "metadata": {},
   "source": [
    "**<span style=\"color:green\">Common libraries are :-**"
   ]
  },
  {
   "cell_type": "markdown",
   "id": "3f0fd0ef-618b-4b7c-b649-01ae5844759c",
   "metadata": {},
   "source": [
    "Some  common libraries for data analysis: like numpy, pandas, scipy are used for data manipulation analysis and scientific computing tasks. Machine learning and Artificial intelligence libraries are: tensor flow, pyTorch, scikit learn and keras. There are over 137,000 python libraries available today. These libraries can be helpful in creating application and models in a variety of fields. For instance, data science, data manipulation, data visulalization, images and many more. "
   ]
  },
  {
   "cell_type": "markdown",
   "id": "1c079165-39e1-4037-988a-38565c2eef7f",
   "metadata": {},
   "source": [
    "\n",
    "Example of using python library is :"
   ]
  },
  {
   "cell_type": "code",
   "execution_count": 1,
   "id": "90368626-6b39-4612-b2da-b67aa8661300",
   "metadata": {},
   "outputs": [
    {
     "data": {
      "text/plain": [
       "53.833333333333336"
      ]
     },
     "execution_count": 1,
     "metadata": {},
     "output_type": "execute_result"
    }
   ],
   "source": [
    "import statistics\n",
    "a=([23,45,56,78,54,67])\n",
    "statistics.mean(a)"
   ]
  },
  {
   "cell_type": "markdown",
   "id": "ba4124cc-ccac-4a5d-bd2b-c604ca5c65f0",
   "metadata": {},
   "source": [
    "In this eaxample, in first code, 'import' word is used to enter the library (statistics) in our computer. Then, we create an array assign to 'a' variable and we call the function statistics.mean() that was already occur in the library of statistics. In which we will not use any formulae's to solve the mean only use the library functions."
   ]
  },
  {
   "cell_type": "markdown",
   "id": "35103576-693a-4924-b7ad-9cad67759148",
   "metadata": {},
   "source": [
    "### <span style=\"color:red\"> NUMPY :- ###"
   ]
  },
  {
   "cell_type": "markdown",
   "id": "e5e919df-b113-451c-a651-e972e7c3974f",
   "metadata": {},
   "source": [
    "**<span style=\"color:green\">Importance :-**"
   ]
  },
  {
   "cell_type": "markdown",
   "id": "3616abf0-cc03-4fa9-bd61-9504f57896ab",
   "metadata": {},
   "source": [
    "Numpy stands for Numerical python. Numpy is a python library used for working with arrays. Numpy can be used to perform a wide variety of mathematical operations on array and matrixes."
   ]
  },
  {
   "cell_type": "markdown",
   "id": "7c17723e-2e98-4282-8813-1f17039c4a98",
   "metadata": {},
   "source": [
    "In python, we have lists that serve the purpose of arrays, but they are slow the process. Numpy aims to provide an array object that is up to 50x faster than traditional python lists. The array dimensional in numpy is called ndarray. It provide a lot of supproting functions that make working ndarray very easy. Array are very frequently used in data science (It is a branch of computer science where we study how to store, use and analyze data for deriving information from it), where speed and resources are very important."
   ]
  },
  {
   "cell_type": "markdown",
   "id": "07c3a9d4-50f8-4037-9a18-c0c7d1ea133d",
   "metadata": {},
   "source": [
    "**<span style=\"color:green\">How to import numpy :-**"
   ]
  },
  {
   "cell_type": "markdown",
   "id": "c67af90f-8a09-4c46-9941-646add708938",
   "metadata": {},
   "source": [
    "import numpy as np. We shorten the imported name to np for better readability of code using numpy."
   ]
  },
  {
   "cell_type": "code",
   "execution_count": 2,
   "id": "52b8bbf3-cf06-4599-ad67-feda8849794b",
   "metadata": {},
   "outputs": [],
   "source": [
    "import numpy as np"
   ]
  },
  {
   "cell_type": "markdown",
   "id": "b22d20ca-9d67-456e-b7e1-1bf1618b0818",
   "metadata": {},
   "source": [
    "**<span style=\"color:green\">Examples of numpy for arrays :-**"
   ]
  },
  {
   "cell_type": "code",
   "execution_count": 3,
   "id": "f899b9a2-7636-4cfc-b8c4-f96305af2621",
   "metadata": {},
   "outputs": [
    {
     "data": {
      "text/plain": [
       "array([10, 20, 30, 40, 50])"
      ]
     },
     "execution_count": 3,
     "metadata": {},
     "output_type": "execute_result"
    }
   ],
   "source": [
    "a=np.array([10,20,30,40,50])\n",
    "a"
   ]
  },
  {
   "cell_type": "markdown",
   "id": "b392fefa-4a64-4b1d-9402-14b56dcb1409",
   "metadata": {},
   "source": [
    "In this example, we simply assign the numpy array to 'a' variable, and then disply the array by using simple variable 'a' in 2nd line. It contain one rows and 5 columns. This example represent the syntax of 1 dimensional array.\n",
    "\n",
    "For 2 dimensional array, we will use this syntax :"
   ]
  },
  {
   "cell_type": "code",
   "execution_count": 4,
   "id": "80502753-c0a2-4709-a1cb-f0feb776481e",
   "metadata": {},
   "outputs": [
    {
     "data": {
      "text/plain": [
       "array([[24, 50, 40, 87,  8],\n",
       "       [30, 29, 60, 80, 64],\n",
       "       [78, 29, 19, 27, 90]])"
      ]
     },
     "execution_count": 4,
     "metadata": {},
     "output_type": "execute_result"
    }
   ],
   "source": [
    "a=np.array([[24,50,40,87,8],[30,29,60,80,64],[78,29,19,27,90]])\n",
    "a"
   ]
  },
  {
   "cell_type": "markdown",
   "id": "5d2735f5-1295-4a73-a487-abc13ac196a1",
   "metadata": {},
   "source": [
    "This is the example of 2 dimensional array, in which we use 3 arrays by using comma that seperate these 3 arrays, which contain 3 rows and 5 columns. "
   ]
  },
  {
   "cell_type": "markdown",
   "id": "1fe15281-1ff8-45f9-a940-f03f2278cc67",
   "metadata": {},
   "source": [
    "**<span style=\"color:green\">Some important points :-**"
   ]
  },
  {
   "cell_type": "markdown",
   "id": "c7ecd22d-7151-4067-b8a4-ff7ebe76af41",
   "metadata": {},
   "source": [
    " 1. Rows are horizontal and columns are vertical.\n",
    " 2. Rows (horizontal dimension) always denoted by 0.\n",
    " 3. Columns (vertical dimension) always denoted by 1.\n",
    " 4. One dimensional array always contain one rows and multiple columns eg. [10,15,20,25,30,35,40,45].\n",
    " 5. Two dimensional array always contain multiple rows and columns eg. [[2,3,6,5,7,8],[10,1,9,11,80,38]].\n",
    " 6. Cubic is example of 3 dimensional array.\n",
    " 7. Always remember, For 2 dimensional array, we will use 2 square brackets and for 3 dimensional array, we will use 3 square brackets and so on. \n",
    " 8. One dimensional array also known as vector.\n",
    " 9. Two dimensional array also known as matrix.\n",
    " 10. Three dimensional or higher than arrays are known as tensor.\n",
    " 11. Remember that the second name of dimension is axis.\n",
    " 12. axis=0 shows vertical direction.\n",
    " 13. axis=1 shows horizontal direction.\n",
    "     "
   ]
  },
  {
   "cell_type": "markdown",
   "id": "3468a694-0c7b-4048-b1ec-b958f8deefae",
   "metadata": {},
   "source": [
    "**<span style=\"color:green\">Checking the datatypes of an array :-**"
   ]
  },
  {
   "cell_type": "code",
   "execution_count": 5,
   "id": "cfe0d6dd-9453-442c-980c-33d3e8c8a17b",
   "metadata": {},
   "outputs": [
    {
     "name": "stdout",
     "output_type": "stream",
     "text": [
      "Data Type : int32\n"
     ]
    }
   ],
   "source": [
    "var=np.array([20,34,17,37,58])\n",
    "print(\"Data Type :\", var.dtype)"
   ]
  },
  {
   "cell_type": "code",
   "execution_count": 6,
   "id": "345c15d4-7cf6-4d59-a311-5eda5a2e1395",
   "metadata": {},
   "outputs": [
    {
     "name": "stdout",
     "output_type": "stream",
     "text": [
      "Data Type : <U6\n"
     ]
    }
   ],
   "source": [
    "d=np.array([\"nooram\",\"saira\",\"kafia\",\"laraib\",\"adan\"])\n",
    "print(\"Data Type :\", d.dtype)"
   ]
  },
  {
   "cell_type": "code",
   "execution_count": 7,
   "id": "60682c83-8d2e-4068-980b-fdae6a678144",
   "metadata": {},
   "outputs": [
    {
     "name": "stdout",
     "output_type": "stream",
     "text": [
      "Data Type : float64\n"
     ]
    }
   ],
   "source": [
    "m=np.array([2.4,3.4,7.6])\n",
    "print(\"Data Type :\", m.dtype)"
   ]
  },
  {
   "cell_type": "markdown",
   "id": "f41259a9-d8bc-4f23-991b-525be4730d24",
   "metadata": {},
   "source": [
    "These examples shows the data type of an array. In 2nd example <U represent the string datatype."
   ]
  },
  {
   "cell_type": "markdown",
   "id": "327aa560-ec05-4953-af51-1d3d131769ef",
   "metadata": {},
   "source": [
    "If we combine the string and integer data values, then, we check the datatype. For example :"
   ]
  },
  {
   "cell_type": "code",
   "execution_count": 8,
   "id": "73b1487b-64d5-4a73-93dc-100b73c3fe6c",
   "metadata": {},
   "outputs": [
    {
     "name": "stdout",
     "output_type": "stream",
     "text": [
      "Data Type : <U11\n"
     ]
    }
   ],
   "source": [
    "var=np.array([\"raziya\",\"haniya\",\"daniya\",90,80,70])\n",
    "print(\"Data Type :\", var.dtype)"
   ]
  },
  {
   "cell_type": "markdown",
   "id": "8cfe92c9-f372-4299-9c8a-1c05662c67b5",
   "metadata": {},
   "source": [
    "By using dtype function,we find the datatypes of an array easily. "
   ]
  },
  {
   "cell_type": "markdown",
   "id": "9e376006-5e18-43e3-abcf-ac5e3f75e2f2",
   "metadata": {},
   "source": [
    "**<span style=\"color:blue\">Type Conversion / Type casting :-**"
   ]
  },
  {
   "cell_type": "markdown",
   "id": "1bcaccd5-a08e-455e-8a22-9d4939491041",
   "metadata": {},
   "source": [
    "Type conversion is the proces  of converting a data type into another data type. In which, we will use type conversion functions in the program code. This type conversion is also known as Type Casting."
   ]
  },
  {
   "cell_type": "markdown",
   "id": "5b8ec543-5970-40dc-8995-b74d590acee6",
   "metadata": {},
   "source": [
    "Some instances are :-"
   ]
  },
  {
   "cell_type": "code",
   "execution_count": 9,
   "id": "b16331da-b934-4af5-b2e9-b1ba269744d0",
   "metadata": {},
   "outputs": [
    {
     "name": "stdout",
     "output_type": "stream",
     "text": [
      "bool\n"
     ]
    }
   ],
   "source": [
    "var=np.array([\"Beleive in yourself\"], dtype=bool)\n",
    "print(var.dtype)"
   ]
  },
  {
   "cell_type": "code",
   "execution_count": 10,
   "id": "d0b8ef61-f3cc-44c6-8f2a-77d368335a85",
   "metadata": {},
   "outputs": [
    {
     "name": "stdout",
     "output_type": "stream",
     "text": [
      "Data type : float32\n"
     ]
    }
   ],
   "source": [
    "var=np.array([1,2,3,4,5,6,7,8], dtype=\"f\")\n",
    "print(\"Data type :\", var.dtype)\n"
   ]
  },
  {
   "cell_type": "code",
   "execution_count": 11,
   "id": "33ad40ee-5d89-4f07-ac9d-b38179aed718",
   "metadata": {},
   "outputs": [
    {
     "name": "stdout",
     "output_type": "stream",
     "text": [
      "int32\n",
      "int8\n"
     ]
    }
   ],
   "source": [
    "var=np.array([2,3,4,5,6,7])\n",
    "print(var.dtype)\n",
    "var=np.array([2,3,4,5,6,7], dtype=np.int8)\n",
    "print(var.dtype)"
   ]
  },
  {
   "cell_type": "markdown",
   "id": "c39b6e2b-eb02-4f38-a575-51d09d4b1523",
   "metadata": {},
   "source": [
    "Firstly, we dis[played simple array datatype, 32 shows the byte of datatype.Then we changed the byte from 32 to 8."
   ]
  },
  {
   "cell_type": "code",
   "execution_count": 12,
   "id": "e20125a8-d3fb-4995-8390-22cfec9c5e6b",
   "metadata": {},
   "outputs": [
    {
     "name": "stdout",
     "output_type": "stream",
     "text": [
      "int32\n"
     ]
    },
    {
     "data": {
      "text/plain": [
       "array([ 3,  2, 45, 67, 89])"
      ]
     },
     "execution_count": 12,
     "metadata": {},
     "output_type": "execute_result"
    }
   ],
   "source": [
    "var=np.array([3.4,2.5,45,67,89], dtype=int )\n",
    "print(var.dtype)\n",
    "var"
   ]
  },
  {
   "cell_type": "markdown",
   "id": "f1059c80-cfa6-4e4b-a622-c324651bd06f",
   "metadata": {},
   "source": [
    "**<span style=\"color:blue\">Basic array functions :-**"
   ]
  },
  {
   "cell_type": "code",
   "execution_count": 13,
   "id": "84069377-58b0-405f-8216-8f356c43a677",
   "metadata": {},
   "outputs": [
    {
     "data": {
      "text/plain": [
       "array([ 1,  2,  3,  4,  5,  6,  7,  8,  9, 10, 11])"
      ]
     },
     "execution_count": 13,
     "metadata": {},
     "output_type": "execute_result"
    }
   ],
   "source": [
    "a=np.array([1,2,3,4,5,6,7,8,9,10,11])\n",
    "a"
   ]
  },
  {
   "cell_type": "code",
   "execution_count": 14,
   "id": "bf2926e0-4961-4614-bb9a-dc8ed3f896ac",
   "metadata": {},
   "outputs": [
    {
     "data": {
      "text/plain": [
       "1"
      ]
     },
     "execution_count": 14,
     "metadata": {},
     "output_type": "execute_result"
    }
   ],
   "source": [
    "np.min(a) # minimum value of an array"
   ]
  },
  {
   "cell_type": "code",
   "execution_count": 15,
   "id": "a66e505b-8fa2-4d77-91dd-8d987522cfb1",
   "metadata": {},
   "outputs": [
    {
     "data": {
      "text/plain": [
       "11"
      ]
     },
     "execution_count": 15,
     "metadata": {},
     "output_type": "execute_result"
    }
   ],
   "source": [
    "np.max(a) # maximum value of an array"
   ]
  },
  {
   "cell_type": "code",
   "execution_count": 16,
   "id": "26305a6f-70cc-4fe8-8dd1-d63197edb4be",
   "metadata": {},
   "outputs": [
    {
     "data": {
      "text/plain": [
       "0"
      ]
     },
     "execution_count": 16,
     "metadata": {},
     "output_type": "execute_result"
    }
   ],
   "source": [
    "np.argmin(a) # position or indexing of minimum number"
   ]
  },
  {
   "cell_type": "code",
   "execution_count": 17,
   "id": "99be3f21-4997-49cc-97f4-3739e42dd33e",
   "metadata": {},
   "outputs": [
    {
     "data": {
      "text/plain": [
       "10"
      ]
     },
     "execution_count": 17,
     "metadata": {},
     "output_type": "execute_result"
    }
   ],
   "source": [
    "np.argmax(a) # position or indexing of maximum number"
   ]
  },
  {
   "cell_type": "code",
   "execution_count": 18,
   "id": "aaf6df52-5e35-42be-8ab3-f65f0850ff65",
   "metadata": {},
   "outputs": [
    {
     "data": {
      "text/plain": [
       "array([1.        , 1.41421356, 1.73205081, 2.        , 2.23606798,\n",
       "       2.44948974, 2.64575131, 2.82842712, 3.        , 3.16227766,\n",
       "       3.31662479])"
      ]
     },
     "execution_count": 18,
     "metadata": {},
     "output_type": "execute_result"
    }
   ],
   "source": [
    "np.sqrt(a) # square root of every number"
   ]
  },
  {
   "cell_type": "code",
   "execution_count": 19,
   "id": "e84915bf-bcca-49c9-bb7d-60cae88c62f5",
   "metadata": {},
   "outputs": [
    {
     "data": {
      "text/plain": [
       "array([ 0.84147098,  0.90929743,  0.14112001, -0.7568025 , -0.95892427,\n",
       "       -0.2794155 ,  0.6569866 ,  0.98935825,  0.41211849, -0.54402111,\n",
       "       -0.99999021])"
      ]
     },
     "execution_count": 19,
     "metadata": {},
     "output_type": "execute_result"
    }
   ],
   "source": [
    "np.sin(a) # sin value of every number"
   ]
  },
  {
   "cell_type": "code",
   "execution_count": 20,
   "id": "8f178e33-6a40-4fb4-b63b-444aeb08aa01",
   "metadata": {},
   "outputs": [
    {
     "data": {
      "text/plain": [
       "array([ 0.54030231, -0.41614684, -0.9899925 , -0.65364362,  0.28366219,\n",
       "        0.96017029,  0.75390225, -0.14550003, -0.91113026, -0.83907153,\n",
       "        0.0044257 ])"
      ]
     },
     "execution_count": 20,
     "metadata": {},
     "output_type": "execute_result"
    }
   ],
   "source": [
    "np.cos(a) # cos value of every number"
   ]
  },
  {
   "cell_type": "code",
   "execution_count": 21,
   "id": "c2d66c60-f754-4126-a943-37dd9af25c5f",
   "metadata": {},
   "outputs": [
    {
     "data": {
      "text/plain": [
       "array([1.  , 2.25, 3.5 , 4.75, 6.  ])"
      ]
     },
     "execution_count": 21,
     "metadata": {},
     "output_type": "execute_result"
    }
   ],
   "source": [
    "np.linspace(1,6,5)"
   ]
  },
  {
   "cell_type": "markdown",
   "id": "7a8fff48-0770-4033-9a64-3490278f83a9",
   "metadata": {},
   "source": [
    "The syntax of this function will be : (starting value, ending value, same gap b/w consecutive values/divide values equally)"
   ]
  },
  {
   "cell_type": "code",
   "execution_count": 22,
   "id": "4d856939-d538-4bd9-ab64-6f1953fee14c",
   "metadata": {},
   "outputs": [
    {
     "data": {
      "text/plain": [
       "array([0., 0., 0., 0., 0.])"
      ]
     },
     "execution_count": 22,
     "metadata": {},
     "output_type": "execute_result"
    }
   ],
   "source": [
    "np.zeros(5) # it returns a new array of given shape and type, where the elements value as 0. Array of zeros with length 5.\n"
   ]
  },
  {
   "cell_type": "code",
   "execution_count": 23,
   "id": "82850cb5-8b3e-4f13-b6c2-5703aace1a89",
   "metadata": {},
   "outputs": [
    {
     "data": {
      "text/plain": [
       "array([1., 1., 1., 1., 1., 1., 1., 1.])"
      ]
     },
     "execution_count": 23,
     "metadata": {},
     "output_type": "execute_result"
    }
   ],
   "source": [
    "np.ones(8) # it returns a new array of given shape and type, where the elements value as 1. Array of ones with length 8."
   ]
  },
  {
   "cell_type": "code",
   "execution_count": 24,
   "id": "f643cd2c-bc99-4b63-b23f-568b52ac8843",
   "metadata": {},
   "outputs": [
    {
     "data": {
      "text/plain": [
       "array([175076204, 538976288, 757935405, 757935405, 538976266])"
      ]
     },
     "execution_count": 24,
     "metadata": {},
     "output_type": "execute_result"
    }
   ],
   "source": [
    "np.empty(5, dtype=int) # it returns random values and uninitialized entries, with int type."
   ]
  },
  {
   "cell_type": "code",
   "execution_count": 25,
   "id": "d3e9d58d-54e9-48dc-a660-88d8a63e1763",
   "metadata": {},
   "outputs": [
    {
     "data": {
      "text/plain": [
       "array([1, 2, 3, 4])"
      ]
     },
     "execution_count": 25,
     "metadata": {},
     "output_type": "execute_result"
    }
   ],
   "source": [
    "a=np.array([1,1,1,2,3,1,4]) # avoid to repeate the value and returns unique values\n",
    "np.unique(a)"
   ]
  },
  {
   "cell_type": "code",
   "execution_count": 26,
   "id": "340dca96-5b73-41a3-a641-04b972f3c9e0",
   "metadata": {},
   "outputs": [
    {
     "data": {
      "text/plain": [
       "array([1, 3, 5, 7])"
      ]
     },
     "execution_count": 26,
     "metadata": {},
     "output_type": "execute_result"
    }
   ],
   "source": [
    "a=np.array([1,2,3,4,5,6,7,8]) \n",
    "np.arange(1,8,2) # syntax (start, stop, steps/gap)"
   ]
  },
  {
   "cell_type": "code",
   "execution_count": 27,
   "id": "eec2e593-faf9-4b2a-8b41-cf6ad5969007",
   "metadata": {},
   "outputs": [
    {
     "data": {
      "text/plain": [
       "array([6, 1, 0, 4, 3, 2, 5], dtype=int64)"
      ]
     },
     "execution_count": 27,
     "metadata": {},
     "output_type": "execute_result"
    }
   ],
   "source": [
    "a=np.array([4,2,7,6,5,9,1])\n",
    "np.argsort(a) # it tells that our array is sorted or not and also tell the datatype of array"
   ]
  },
  {
   "cell_type": "code",
   "execution_count": 28,
   "id": "b9f74ab2-d99d-4c83-8a4b-d7709093e667",
   "metadata": {},
   "outputs": [
    {
     "data": {
      "text/plain": [
       "array([4, 2, 7, 6, 5, 9, 1])"
      ]
     },
     "execution_count": 28,
     "metadata": {},
     "output_type": "execute_result"
    }
   ],
   "source": [
    "np.around(a)"
   ]
  },
  {
   "cell_type": "code",
   "execution_count": 29,
   "id": "7b3b230b-3a40-4951-8866-d5fc19fc5396",
   "metadata": {},
   "outputs": [
    {
     "data": {
      "text/plain": [
       "34"
      ]
     },
     "execution_count": 29,
     "metadata": {},
     "output_type": "execute_result"
    }
   ],
   "source": [
    "np.sum(a) # Calculate the sum of elements of numpy array"
   ]
  },
  {
   "cell_type": "code",
   "execution_count": 30,
   "id": "5774bb47-112f-4c09-a240-ac15876b19c9",
   "metadata": {},
   "outputs": [
    {
     "data": {
      "text/plain": [
       "2.5872528966106905"
      ]
     },
     "execution_count": 30,
     "metadata": {},
     "output_type": "execute_result"
    }
   ],
   "source": [
    "np.std(a) # Calculate the standard deviation of the elements of numpy array."
   ]
  },
  {
   "cell_type": "markdown",
   "id": "1dd2c45f-10bf-49a4-84ac-9cf736caa6f6",
   "metadata": {},
   "source": [
    "**<span style=\"color:blue\">Sorting array :-**"
   ]
  },
  {
   "cell_type": "markdown",
   "id": "96d51174-3df6-46b4-b25f-8b367b8bbd3a",
   "metadata": {},
   "source": [
    "Sorting means putting elements in an ordered sequence. Ordered sequence is any sequence like numeric, alphabatic, ascending or descending."
   ]
  },
  {
   "cell_type": "code",
   "execution_count": 31,
   "id": "8cec3eb5-e256-4d40-aceb-c7e4dc30bc82",
   "metadata": {},
   "outputs": [
    {
     "data": {
      "text/plain": [
       "array([0, 1, 2, 3])"
      ]
     },
     "execution_count": 31,
     "metadata": {},
     "output_type": "execute_result"
    }
   ],
   "source": [
    "import numpy as np\n",
    "a=np.array([3,2,0,1])\n",
    "np.sort(a)"
   ]
  },
  {
   "cell_type": "code",
   "execution_count": 32,
   "id": "9fb47c00-18bb-40e5-9211-10cdb43f3af1",
   "metadata": {},
   "outputs": [
    {
     "data": {
      "text/plain": [
       "array(['banana', 'cherry', 'falsa'], dtype='<U6')"
      ]
     },
     "execution_count": 32,
     "metadata": {},
     "output_type": "execute_result"
    }
   ],
   "source": [
    "b=np.array([\"banana\",\"cherry\",\"falsa\"])\n",
    "np.sort(b)"
   ]
  },
  {
   "cell_type": "markdown",
   "id": "9fbb45db-b4d1-44ba-bdd4-caa2465c5f3a",
   "metadata": {},
   "source": [
    "**<span style=\"color:blue\">Concatination :-**"
   ]
  },
  {
   "cell_type": "markdown",
   "id": "a86cfa9d-8f8d-4909-b97d-4d555b7cda3f",
   "metadata": {},
   "source": [
    "Concatination function is essentially used to combines numpy arrays together. To join two or more arrays of the same shape along a specified axis. There are several ways to concatenate arrays in numpy. One way is to use the concatenate() function. The concatenate() function takes a list of arrays as input and returns a new array that is the concatenation of the input arrays."
   ]
  },
  {
   "cell_type": "markdown",
   "id": "803cf061-3766-40c3-b6a8-ceb8d16b471c",
   "metadata": {},
   "source": [
    "For example, the following code concatenates two arrays :-"
   ]
  },
  {
   "cell_type": "markdown",
   "id": "94a04f15-744f-42f2-bea4-4107f86933c0",
   "metadata": {},
   "source": [
    "**<span style=\"color:green\">1 dimensional array :-**"
   ]
  },
  {
   "cell_type": "code",
   "execution_count": 33,
   "id": "2ccf1684-b6fb-4d25-a72e-6674d01177d6",
   "metadata": {},
   "outputs": [
    {
     "data": {
      "text/plain": [
       "array(['d', 'a', 'n', 'i', 'y', 'a', 's', 'a', 'q', 'i', 'b'], dtype='<U1')"
      ]
     },
     "execution_count": 33,
     "metadata": {},
     "output_type": "execute_result"
    }
   ],
   "source": [
    "a=np.array(['d','a','n','i','y','a'])\n",
    "b=np.array(['s','a','q','i','b'])\n",
    "np.concatenate((a,b))"
   ]
  },
  {
   "cell_type": "markdown",
   "id": "46f174f6-27d9-4217-843c-73756aa336ce",
   "metadata": {},
   "source": [
    "**<span style=\"color:green\">2 dimensional array :-**"
   ]
  },
  {
   "cell_type": "code",
   "execution_count": 34,
   "id": "809f9c5c-e021-4126-a511-12e337b5328b",
   "metadata": {},
   "outputs": [
    {
     "data": {
      "text/plain": [
       "array([[ 1,  2,  3,  4,  5],\n",
       "       [ 6,  7,  8,  9, 10],\n",
       "       [11, 12, 13, 14, 15],\n",
       "       [16, 17, 18, 19, 20]])"
      ]
     },
     "execution_count": 34,
     "metadata": {},
     "output_type": "execute_result"
    }
   ],
   "source": [
    "x=np.array([[1,2,3,4,5],[6,7,8,9,10]])\n",
    "y=np.array([[11,12,13,14,15],[16,17,18,19,20]])\n",
    "np.concatenate((x,y))"
   ]
  },
  {
   "cell_type": "markdown",
   "id": "bf367170-91f2-42f3-b089-5d88d6eb6224",
   "metadata": {},
   "source": [
    "Another way to concatenate arrays in numpy is to use the + operator. The + operator concatenates two arrays along the first axiss by default. "
   ]
  },
  {
   "cell_type": "markdown",
   "id": "c1ad68a4-ab6a-43c9-8c96-ea49c263aa94",
   "metadata": {},
   "source": [
    "For example, the following code concatenates the arrays :-"
   ]
  },
  {
   "cell_type": "code",
   "execution_count": 35,
   "id": "33cab4af-1009-4277-ab38-508ca881e224",
   "metadata": {},
   "outputs": [
    {
     "name": "stdout",
     "output_type": "stream",
     "text": [
      "[ 9 12  6  9]\n"
     ]
    }
   ],
   "source": [
    "a=np.array([1,3,6,7])\n",
    "b=np.array([8,9,0,2])\n",
    "c=a+b\n",
    "print(c)"
   ]
  },
  {
   "cell_type": "markdown",
   "id": "b3465ae7-e6f6-4c80-88cc-84e3daf40015",
   "metadata": {},
   "source": [
    "**<span style=\"color:green\">Common functions for concatenation :-**"
   ]
  },
  {
   "cell_type": "markdown",
   "id": "8f79c1a2-9b3b-4053-8bb5-05b9d3c8eda6",
   "metadata": {},
   "source": [
    "There are several functions in numpy that can be used to concatenate arrays. The most common ones are :"
   ]
  },
  {
   "cell_type": "markdown",
   "id": "48c05a4a-a935-441e-917f-03e39ae789a6",
   "metadata": {},
   "source": [
    "concatenate() : This is the most general concatenation function. It can concatenate arrays of any dimension and along any axis. We have already seen the example of this function."
   ]
  },
  {
   "cell_type": "markdown",
   "id": "f9162ee4-6310-4baa-9f9c-bf389240373e",
   "metadata": {},
   "source": [
    "stack() : This function concatenate arrays along a new axis. For example :"
   ]
  },
  {
   "cell_type": "code",
   "execution_count": 36,
   "id": "957960b1-3e48-4d68-83ad-890f4a8d191b",
   "metadata": {},
   "outputs": [
    {
     "data": {
      "text/plain": [
       "array([[2, 5, 6, 7],\n",
       "       [6, 9, 0, 1]])"
      ]
     },
     "execution_count": 36,
     "metadata": {},
     "output_type": "execute_result"
    }
   ],
   "source": [
    "a=np.array([2,5,6,7])\n",
    "b=np.array([6,9,0,1])\n",
    "np.stack((a,b))"
   ]
  },
  {
   "cell_type": "markdown",
   "id": "f73e8f3f-36af-49e7-ab8f-9f8940d75805",
   "metadata": {},
   "source": [
    "hstack() : This function concatenate arrays horizontally, i.e, along the columns, For example :"
   ]
  },
  {
   "cell_type": "code",
   "execution_count": 37,
   "id": "06b2b1a4-c0e2-4352-b045-2ad2da150b20",
   "metadata": {},
   "outputs": [
    {
     "data": {
      "text/plain": [
       "array([34,  7,  8, 90, 23, 10,  2,  3,  4,  5])"
      ]
     },
     "execution_count": 37,
     "metadata": {},
     "output_type": "execute_result"
    }
   ],
   "source": [
    "x=np.array([34,7,8,90,23])\n",
    "y=np.array([10,2,3,4,5])\n",
    "np.hstack((x,y))"
   ]
  },
  {
   "cell_type": "markdown",
   "id": "57b8f357-f353-4a3a-a8b9-00e93146de9c",
   "metadata": {},
   "source": [
    "vstack() : This function concatenate arrays vertically, i.e, along the rows. For example : "
   ]
  },
  {
   "cell_type": "code",
   "execution_count": 38,
   "id": "16c8ee90-11ef-4a07-a2f6-e390d625c73f",
   "metadata": {},
   "outputs": [
    {
     "data": {
      "text/plain": [
       "array([[34,  7,  8, 90, 23],\n",
       "       [10,  2,  3,  4,  5]])"
      ]
     },
     "execution_count": 38,
     "metadata": {},
     "output_type": "execute_result"
    }
   ],
   "source": [
    "np.vstack((x,y))"
   ]
  },
  {
   "cell_type": "markdown",
   "id": "06a00b88-8252-4f85-856d-4cdb1db451d0",
   "metadata": {},
   "source": [
    "dstack() : This function concatenate arrays along the depth axis. For example :"
   ]
  },
  {
   "cell_type": "code",
   "execution_count": 39,
   "id": "d33d0b35-1541-4050-96b3-35de54e3bf15",
   "metadata": {},
   "outputs": [
    {
     "data": {
      "text/plain": [
       "array([[[2, 6],\n",
       "        [5, 9],\n",
       "        [6, 0],\n",
       "        [7, 1]]])"
      ]
     },
     "execution_count": 39,
     "metadata": {},
     "output_type": "execute_result"
    }
   ],
   "source": [
    "np.dstack((a,b))"
   ]
  },
  {
   "cell_type": "markdown",
   "id": "ff28f8b1-3799-412c-a65e-20dd4b8fb37a",
   "metadata": {},
   "source": [
    "**<span style=\"color:green\">Check the shape of an array :-**"
   ]
  },
  {
   "cell_type": "markdown",
   "id": "6fa954a4-33ec-426d-ba08-0e2cf94c3da9",
   "metadata": {},
   "source": [
    "Using the shape attribute of an array returns tuple of the arrays dimensions. For example, if an array has two dimensions, the shape attribute will return a tuple of length 2. Here is the example of how to use the shape attribute :"
   ]
  },
  {
   "cell_type": "code",
   "execution_count": 40,
   "id": "5daf14b0-4894-4c20-ad67-e14addd29946",
   "metadata": {},
   "outputs": [
    {
     "name": "stdout",
     "output_type": "stream",
     "text": [
      "(5,)\n"
     ]
    }
   ],
   "source": [
    "h=np.array([1,2,3,4,5])\n",
    "print((h.shape))"
   ]
  },
  {
   "cell_type": "markdown",
   "id": "43c81b42-e079-488f-9585-02f4a1eb461e",
   "metadata": {},
   "source": [
    "It is the tuple of length 1, which means that the array has 1 dimension. Using the ndim attribute of an array returns the number of dimensions of the array. Here is an example of how to use the ndim attribute :"
   ]
  },
  {
   "cell_type": "code",
   "execution_count": 41,
   "id": "463424f7-be25-4a23-87f4-6ba1a578f182",
   "metadata": {},
   "outputs": [
    {
     "name": "stdout",
     "output_type": "stream",
     "text": [
      "1\n"
     ]
    }
   ],
   "source": [
    "d=np.array([1,3,5,7,9])\n",
    "print((d.ndim))"
   ]
  },
  {
   "cell_type": "markdown",
   "id": "85c71426-eed0-42f0-81b9-0c8b1de4adbf",
   "metadata": {},
   "source": [
    "It means array has 1 dimension. We can also check the size function that returns the total number of elements in the array. Here is an example of how to use the size attribute or function :"
   ]
  },
  {
   "cell_type": "code",
   "execution_count": 42,
   "id": "b01ad5db-385f-495b-8e63-e6934c5e78f1",
   "metadata": {},
   "outputs": [
    {
     "name": "stdout",
     "output_type": "stream",
     "text": [
      "5\n"
     ]
    }
   ],
   "source": [
    "l=np.array([2,4,6,8,0])\n",
    "print((l.size))"
   ]
  },
  {
   "cell_type": "markdown",
   "id": "0cec4b76-62c9-4941-a05e-bc8d6283abaa",
   "metadata": {},
   "source": [
    "It shows the total number of elements in the array."
   ]
  },
  {
   "cell_type": "markdown",
   "id": "99b72fef-e1a0-45f4-8075-32dbd5942609",
   "metadata": {},
   "source": [
    "**<span style=\"color:green\">Reshaping the array :-**"
   ]
  },
  {
   "cell_type": "markdown",
   "id": "1dcf6513-6292-47e2-a768-de8af27116c8",
   "metadata": {},
   "source": [
    "Reshaping in numpy is changing the shape of an array without changing its data. The shape of an array is the number of elements in each dimension. By reshaping we can add or remove dimensions or change number of elements in each dimension. We will use the reshape() method."
   ]
  },
  {
   "cell_type": "code",
   "execution_count": 43,
   "id": "e5a481a9-650b-466b-9e6f-0d1aac89c5eb",
   "metadata": {},
   "outputs": [
    {
     "data": {
      "text/plain": [
       "array([[1, 2, 3],\n",
       "       [4, 5, 6]])"
      ]
     },
     "execution_count": 43,
     "metadata": {},
     "output_type": "execute_result"
    }
   ],
   "source": [
    "f=np.array([1,2,3,4,5,6])\n",
    "f.reshape((2,3)) # syntax (no.of rows, no,of columns)"
   ]
  },
  {
   "cell_type": "code",
   "execution_count": 44,
   "id": "8fc32521-67ac-4a2d-b661-1949ea8d4408",
   "metadata": {},
   "outputs": [
    {
     "data": {
      "text/plain": [
       "array([[1, 2, 3],\n",
       "       [4, 5, 6]])"
      ]
     },
     "execution_count": 44,
     "metadata": {},
     "output_type": "execute_result"
    }
   ],
   "source": [
    "np.reshape(f,newshape=(2,3),order='A') # We can also write the reshape function from this syntax"
   ]
  },
  {
   "cell_type": "markdown",
   "id": "b1274370-f98f-4abe-a26b-f588cbd958ff",
   "metadata": {},
   "source": [
    "**<span style=\"color:blue\">Indexing or slicing :-**"
   ]
  },
  {
   "cell_type": "markdown",
   "id": "fef5c661-7fd7-435e-afa0-d29e63ce384e",
   "metadata": {},
   "source": [
    "Indexing and Slicing are two ways to access elements of a numpy array. Numpy indexing is used for accessing an element from an array by giving it an index value that starts from 0 means that the first element has index 0, and the second has index 1 etc. You can access an array element by referring to its index number. Slicing numpy array means extracting elements from an array in a specific range. Slicing is used to obtain a sequence of element. "
   ]
  },
  {
   "cell_type": "code",
   "execution_count": 45,
   "id": "726c22e9-3183-4151-8b01-e4029a1715c4",
   "metadata": {},
   "outputs": [
    {
     "name": "stdout",
     "output_type": "stream",
     "text": [
      "4\n"
     ]
    }
   ],
   "source": [
    "s=np.array([45,67,89,4,56,3,2,56,1])\n",
    "d=s[3] # it shows that 3 index contain 4 element\n",
    "print((d))"
   ]
  },
  {
   "cell_type": "markdown",
   "id": "b7945e66-145f-42bb-bc15-14cf0c428fc5",
   "metadata": {},
   "source": [
    "Slicing is specified as a tuple of three numbers : the start index, the stop index, and the step size. The start step is optional and defaults to 0. The stop index is the last element to be included in the slice, and it is not included itself. The step size is optional and defaults to 1."
   ]
  },
  {
   "cell_type": "code",
   "execution_count": 46,
   "id": "b8787eec-2de0-44f4-8696-f1ea9c46ddd5",
   "metadata": {},
   "outputs": [
    {
     "name": "stdout",
     "output_type": "stream",
     "text": [
      "[5 6 8 0 3 4 1]\n"
     ]
    }
   ],
   "source": [
    "z=np.array([2,5,6,8,0,3,4,1])\n",
    "print(z[1: ]) # from 1 index to the ending index"
   ]
  },
  {
   "cell_type": "code",
   "execution_count": 47,
   "id": "a0dbc360-e5c3-44d7-91ad-b75f0d6e8ec4",
   "metadata": {},
   "outputs": [
    {
     "name": "stdout",
     "output_type": "stream",
     "text": [
      "['o' 'r' 'a']\n"
     ]
    }
   ],
   "source": [
    "x=np.array(['n','o','o','r','a','m'])\n",
    "print(x[2:5]) # from 2 index to 4"
   ]
  },
  {
   "cell_type": "code",
   "execution_count": 48,
   "id": "b843fc64-bdf7-4c37-b9d0-1e7937b3b44e",
   "metadata": {},
   "outputs": [
    {
     "name": "stdout",
     "output_type": "stream",
     "text": [
      "[5. 8.]\n"
     ]
    }
   ],
   "source": [
    "b=np.array([4.6,7.0,79,5,7,8,9.7])\n",
    "print(b[3:6:2])"
   ]
  },
  {
   "cell_type": "code",
   "execution_count": 49,
   "id": "5c7b128c-d779-4ff7-a004-60ff3011f9f7",
   "metadata": {},
   "outputs": [
    {
     "name": "stdout",
     "output_type": "stream",
     "text": [
      "[2 5 6 8]\n"
     ]
    }
   ],
   "source": [
    "print(z[ :4]) # from starting index to 4 index"
   ]
  },
  {
   "cell_type": "markdown",
   "id": "20d7463e-bb0f-4cef-beaf-d0b32d46a302",
   "metadata": {},
   "source": [
    "We can also use the negative indices to slice from the end of the array. For example, elements from the third to the first element of the array :"
   ]
  },
  {
   "cell_type": "code",
   "execution_count": 50,
   "id": "eb716a0d-97c4-4fba-b789-b14c7c9073c0",
   "metadata": {},
   "outputs": [
    {
     "name": "stdout",
     "output_type": "stream",
     "text": [
      "[5 6]\n"
     ]
    }
   ],
   "source": [
    "j=np.array([1,2,3,4,5,6,7])\n",
    "print(j[-3:-1])"
   ]
  },
  {
   "cell_type": "code",
   "execution_count": 51,
   "id": "3f9d388c-05d9-42a9-98e9-d572050788ef",
   "metadata": {},
   "outputs": [
    {
     "name": "stdout",
     "output_type": "stream",
     "text": [
      "[1 2 3 4 5]\n"
     ]
    }
   ],
   "source": [
    "k=np.array([1,2,3,4,5])\n",
    "print(k[::1]) # step size or gap of 1 element"
   ]
  },
  {
   "cell_type": "code",
   "execution_count": 52,
   "id": "7a01f3be-5e0d-4f65-94fc-15a36d293d81",
   "metadata": {},
   "outputs": [
    {
     "name": "stdout",
     "output_type": "stream",
     "text": [
      "[5 4 3 2 1]\n"
     ]
    }
   ],
   "source": [
    "print(k[::-1]) # to alternate the array"
   ]
  },
  {
   "cell_type": "markdown",
   "id": "49a93c7c-4a06-44cd-b9c6-880453626039",
   "metadata": {},
   "source": [
    "**<span style=\"color:green\">Slicing on the basis of concatination :-**"
   ]
  },
  {
   "cell_type": "markdown",
   "id": "5b59fa3a-2231-43c3-bfb0-9864c474afda",
   "metadata": {},
   "source": [
    "Slicing on the basis of concatenation is done by first concatenating the two arrays, and then slicing the resulting concatenated array. For example, the following code concatenates two arrays, a and b and then slice the resulting concatenated array from index 2 to 5 :"
   ]
  },
  {
   "cell_type": "code",
   "execution_count": 62,
   "id": "476fa37e-97c5-4286-940c-b4fd93d21c34",
   "metadata": {},
   "outputs": [
    {
     "name": "stdout",
     "output_type": "stream",
     "text": [
      "After concatenation : [ 1  2  3  4  5  6  7  8  9 10]\n",
      "Slicing of an array : [3 4 5]\n"
     ]
    }
   ],
   "source": [
    "a=np.array([1,2,3,4,5])\n",
    "b=np.array([6,7,8,9,10])\n",
    "c=np.concatenate((a,b))\n",
    "print(\"After concatenation :\", c)\n",
    "print(\"Slicing of an array :\", c[2:5])               "
   ]
  },
  {
   "cell_type": "markdown",
   "id": "ecde371a-8d49-4d07-ada0-6baf33884109",
   "metadata": {},
   "source": [
    "Some other things to keep in mind when slicing on the basis of concatenation in numpy :"
   ]
  },
  {
   "cell_type": "markdown",
   "id": "0274a64c-c875-43b1-8bf0-cfdd166a1289",
   "metadata": {},
   "source": [
    "1. The order of the array in the concatenation matters. In the above example, a was concatenated before b. If the order was reversed, the elements of b would have been printed from index 2 to index 5. For example : "
   ]
  },
  {
   "cell_type": "code",
   "execution_count": 67,
   "id": "0aab0f15-c832-4d79-b01e-31a98bce3713",
   "metadata": {},
   "outputs": [
    {
     "name": "stdout",
     "output_type": "stream",
     "text": [
      "[ 6  7  8  9 10  1  2  3  4  5]\n",
      "[ 8  9 10]\n"
     ]
    }
   ],
   "source": [
    "a=np.array([1,2,3,4,5])\n",
    "b=np.array([6,7,8,9,10])\n",
    "c=np.concatenate((b,a))\n",
    "print(c)\n",
    "print(c[2:5])"
   ]
  },
  {
   "cell_type": "markdown",
   "id": "e4b89c20-e1cf-4886-8171-3ba062511b49",
   "metadata": {},
   "source": [
    "2. We can also slicing the concatenated array along the multiple axis. For example :-"
   ]
  },
  {
   "cell_type": "code",
   "execution_count": 76,
   "id": "3cad3fa8-5390-4e36-9374-eaeb753310af",
   "metadata": {},
   "outputs": [
    {
     "name": "stdout",
     "output_type": "stream",
     "text": [
      "[[ 1  2  3  7  8  9]\n",
      " [ 4  5  6 10 11 12]]\n",
      "[[2 3]\n",
      " [5 6]]\n"
     ]
    }
   ],
   "source": [
    "e=np.array([[1,2,3],[4,5,6]])\n",
    "r=np.array([[7,8,9],[10,11,12]])\n",
    "t=np.concatenate((e,r), axis=1)\n",
    "print(t)\n",
    "print(t[ :,1:3])"
   ]
  },
  {
   "cell_type": "markdown",
   "id": "1a26dd93-9c96-479e-96a3-abf23dd1edef",
   "metadata": {},
   "source": [
    "The first line create the array 1. The second line create the array 2. The 3rd line concatenate the array 1 and 2 along the 2nd axis (axis=1). This means that the rows of the arrays will be concatenated together. Then last line prints the elements of t from the 2nd column to the 3rd column. Last line code ([ : , 1:3]) is a slicing operation. The symbol : is used to represent that all rows of the array will be selected. The 1:3 means that the element from index 1 to index 2 will bw selected. In this case, the second and third columns of the concatenated array will be selected. "
   ]
  },
  {
   "cell_type": "code",
   "execution_count": 77,
   "id": "e36fdd6d-de29-4c28-b505-f38127d12ddf",
   "metadata": {},
   "outputs": [
    {
     "data": {
      "text/plain": [
       "array([ 8,  9, 10, 12, 14, 16, 18, 20])"
      ]
     },
     "execution_count": 77,
     "metadata": {},
     "output_type": "execute_result"
    }
   ],
   "source": [
    "b=np.array([1,2,4,5,7,8,3,6,9,10,12,14,16,18,20])\n",
    "(b[b>7]) # All elements that are greater than 7 will print."
   ]
  },
  {
   "cell_type": "code",
   "execution_count": 78,
   "id": "74fd4e5e-3743-4d04-a42a-8b930fadba3a",
   "metadata": {},
   "outputs": [
    {
     "name": "stdout",
     "output_type": "stream",
     "text": [
      "[False False False False False False False False False False  True  True\n",
      "  True  True  True]\n"
     ]
    }
   ],
   "source": [
    "print(b>10) # it will give us an output in the form of boolean"
   ]
  },
  {
   "cell_type": "code",
   "execution_count": 89,
   "id": "669f12d7-148e-4b9c-a8ec-a36b85666c27",
   "metadata": {},
   "outputs": [
    {
     "data": {
      "text/plain": [
       "array([ 7,  8,  9, 10, 11])"
      ]
     },
     "execution_count": 89,
     "metadata": {},
     "output_type": "execute_result"
    }
   ],
   "source": [
    "a=np.array([2,3,4,5,6])\n",
    "b=np.array([7,8,9,10,11])\n",
    "c=b[a>1]\n",
    "c"
   ]
  },
  {
   "cell_type": "markdown",
   "id": "943c2923-beda-4841-977b-b6216cb90ecc",
   "metadata": {},
   "source": [
    "**<span style=\"color:green\">Some other operations are :-**"
   ]
  },
  {
   "cell_type": "code",
   "execution_count": 79,
   "id": "b88e826e-0377-4b2d-aa2e-b15e5b1f0a22",
   "metadata": {},
   "outputs": [
    {
     "data": {
      "text/plain": [
       "array([[ 1,  2,  3,  4,  5],\n",
       "       [ 6,  7,  8,  9, 10],\n",
       "       [11, 12, 13, 14, 15],\n",
       "       [16, 17, 18, 19, 20]])"
      ]
     },
     "execution_count": 79,
     "metadata": {},
     "output_type": "execute_result"
    }
   ],
   "source": [
    "arr1=np.array([[1,2,3,4,5],[6,7,8,9,10]])\n",
    "arr2=np.array([[11,12,13,14,15],[16,17,18,19,20]])\n",
    "np.vstack((arr1,arr2))"
   ]
  },
  {
   "cell_type": "markdown",
   "id": "e4b7344a-dec6-4d01-a537-f295a8723a5d",
   "metadata": {},
   "source": [
    "The vstack() function is used to stack array vertically (rows wise). In this example, the vstack() function has stacked the two arrays together to create a new array with 4 rows and 5 columns."
   ]
  },
  {
   "cell_type": "code",
   "execution_count": 80,
   "id": "3677379b-56ef-460f-a3ae-b161f62ae297",
   "metadata": {},
   "outputs": [
    {
     "data": {
      "text/plain": [
       "array([[ 1,  2,  3,  4,  5, 11, 12, 13, 14, 15],\n",
       "       [ 6,  7,  8,  9, 10, 16, 17, 18, 19, 20]])"
      ]
     },
     "execution_count": 80,
     "metadata": {},
     "output_type": "execute_result"
    }
   ],
   "source": [
    "np.hstack((arr1,arr2))"
   ]
  },
  {
   "cell_type": "markdown",
   "id": "4c23d023-85c6-4189-a86d-09ce4ab2f0ee",
   "metadata": {},
   "source": [
    "The hstack() function is used to stack array horizontally (column wise). The arrays must all have the same number of rows. If they do not, the hstack() function will raise an error. In this example, hstack() function has stacked the two arrays together to create a new array with 2 rows and 10 columns. "
   ]
  },
  {
   "cell_type": "markdown",
   "id": "adbebad4-48ed-4255-a9d7-c3a133e57000",
   "metadata": {},
   "source": [
    "**<span style=\"color:blue\">Splitting an array :-**"
   ]
  },
  {
   "cell_type": "markdown",
   "id": "5705692c-66a6-4ece-80da-e01c35d84038",
   "metadata": {},
   "source": [
    "Splitting an array means dividing it into smaller sub-arrays. There are many ways to split an array. Some of the most common methods include :-"
   ]
  },
  {
   "cell_type": "markdown",
   "id": "6dcdcd30-74eb-4709-99e0-fbc8af51e25d",
   "metadata": {},
   "source": [
    "Using the split() method, this method divides the array into specified number of sub array of equal size. For example :"
   ]
  },
  {
   "cell_type": "code",
   "execution_count": 106,
   "id": "9e1b6957-7c42-4d07-a223-2d19c11396fe",
   "metadata": {},
   "outputs": [
    {
     "data": {
      "text/plain": [
       "[array([1, 2]), array([3, 4]), array([5, 6]), array([7, 8]), array([ 9, 10])]"
      ]
     },
     "execution_count": 106,
     "metadata": {},
     "output_type": "execute_result"
    }
   ],
   "source": [
    "a=np.array([1,2,3,4,5,6,7,8,9,10])\n",
    "d=np.split(a,5) # it splits an array into 5 equal arrays\n",
    "d"
   ]
  },
  {
   "cell_type": "markdown",
   "id": "7a2a8f83-f75f-40c1-8a9e-5cddbeb722ed",
   "metadata": {},
   "source": [
    "Using the hsplit() method, this method divides the array horizontally into sub-array of equal width. For example :-"
   ]
  },
  {
   "cell_type": "code",
   "execution_count": 97,
   "id": "fa488fdd-4d54-4707-8c90-2070f3226dfa",
   "metadata": {},
   "outputs": [
    {
     "data": {
      "text/plain": [
       "[array([1, 2, 3, 4, 5]), array([ 6,  7,  8,  9, 10])]"
      ]
     },
     "execution_count": 97,
     "metadata": {},
     "output_type": "execute_result"
    }
   ],
   "source": [
    "np.hsplit(a,2)"
   ]
  },
  {
   "cell_type": "code",
   "execution_count": 111,
   "id": "d9c36957-680b-4c34-9bc1-bf2d762cf25e",
   "metadata": {},
   "outputs": [
    {
     "data": {
      "text/plain": [
       "49"
      ]
     },
     "execution_count": 111,
     "metadata": {},
     "output_type": "execute_result"
    }
   ],
   "source": [
    "x=np.array([1,12,34,2])\n",
    "x.sum(axis=0)"
   ]
  },
  {
   "cell_type": "markdown",
   "id": "946fb3e7-02ba-43b7-b22a-03284e88a216",
   "metadata": {},
   "source": [
    "In this example, we add the individual elements of one column to the individual element of another column"
   ]
  },
  {
   "cell_type": "markdown",
   "id": "b895add2-3e69-42bf-9c93-dba4a7bdeae2",
   "metadata": {},
   "source": [
    "**<span style=\"color:purple\">Important quenstion of assignment (what's the difference b/w concatenationa and stack) :-** "
   ]
  },
  {
   "cell_type": "markdown",
   "id": "5fd7cfde-23da-4c0b-b1a7-b06b3353012d",
   "metadata": {},
   "source": [
    "The concatenation and stack functions are both used to combine arrays. The concatenate() function concatenates array along an existing axis. This means that the array must have the same shape along the axis that is being concatenated. For example, if you want to concatenate two 1D arrays they must have the same length. If you want to concatenate two 2D arrays, they must have the same number of rows and columns.For example :"
   ]
  },
  {
   "cell_type": "code",
   "execution_count": 114,
   "id": "59ddafe2-01dc-4f42-bc0a-c50dc2f1de36",
   "metadata": {},
   "outputs": [
    {
     "data": {
      "text/plain": [
       "array([[ 1,  2,  3],\n",
       "       [ 4,  5,  6],\n",
       "       [ 7,  8,  9],\n",
       "       [10, 11, 12]])"
      ]
     },
     "execution_count": 114,
     "metadata": {},
     "output_type": "execute_result"
    }
   ],
   "source": [
    "a=np.array([[1,2,3],[4,5,6]])\n",
    "b=np.array([[7,8,9],[10,11,12]])\n",
    "np.concatenate((a,b))"
   ]
  },
  {
   "cell_type": "markdown",
   "id": "66d54dbe-51c9-4a7d-bc2b-17e28b951735",
   "metadata": {},
   "source": [
    "The stack() function concatenates array along a new axis. This means that the array can have different shapes along the axis that is being stacked. For example, you can stack two 1D arrays to create a 2D array, or you can stack two 2D array to create a 3D array. For example : "
   ]
  },
  {
   "cell_type": "code",
   "execution_count": 117,
   "id": "41847243-5f5d-4572-85b7-423163945842",
   "metadata": {},
   "outputs": [
    {
     "data": {
      "text/plain": [
       "array([[1, 2, 3],\n",
       "       [4, 5, 6]])"
      ]
     },
     "execution_count": 117,
     "metadata": {},
     "output_type": "execute_result"
    }
   ],
   "source": [
    "a=np.array([1,2,3])\n",
    "b=np.array([4,5,6])\n",
    "np.stack((a,b)) # this has created 1d to 2d array that contain 2 rows and 3 columns"
   ]
  },
  {
   "cell_type": "markdown",
   "id": "ac8ad0ab-817d-4ed4-9f1b-c236987b597d",
   "metadata": {},
   "source": [
    "The concatenate() and stack() functions are both very important tools for combining arrays in numpy. They can be used to simplify data analysis and visualization tasks."
   ]
  },
  {
   "cell_type": "code",
   "execution_count": null,
   "id": "880970ab-74a3-477d-b606-4e4fbcdf3313",
   "metadata": {},
   "outputs": [],
   "source": []
  }
 ],
 "metadata": {
  "kernelspec": {
   "display_name": "Python 3 (ipykernel)",
   "language": "python",
   "name": "python3"
  },
  "language_info": {
   "codemirror_mode": {
    "name": "ipython",
    "version": 3
   },
   "file_extension": ".py",
   "mimetype": "text/x-python",
   "name": "python",
   "nbconvert_exporter": "python",
   "pygments_lexer": "ipython3",
   "version": "3.11.3"
  }
 },
 "nbformat": 4,
 "nbformat_minor": 5
}
